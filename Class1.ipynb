{
 "cells": [
  {
   "cell_type": "markdown",
   "id": "5d2b761d",
   "metadata": {},
   "source": [
    "### PYTHON STRINGS"
   ]
  },
  {
   "cell_type": "code",
   "execution_count": 11,
   "id": "d1b11ec4",
   "metadata": {},
   "outputs": [
    {
     "name": "stdout",
     "output_type": "stream",
     "text": [
      "Hello\n"
     ]
    }
   ],
   "source": [
    "a = \"Hello\"\n",
    "print(a)"
   ]
  },
  {
   "cell_type": "markdown",
   "id": "1d6ac43f",
   "metadata": {},
   "source": [
    "### ACCESSING INDIVIDUAL LETTERS"
   ]
  },
  {
   "cell_type": "code",
   "execution_count": 10,
   "id": "3d7e72e8",
   "metadata": {},
   "outputs": [
    {
     "name": "stdout",
     "output_type": "stream",
     "text": [
      "E\n"
     ]
    }
   ],
   "source": [
    "a = \"HELLO,WORLD!\"\n",
    "print(a[1])    #returns letter at index 1\n"
   ]
  },
  {
   "cell_type": "markdown",
   "id": "184452dd",
   "metadata": {},
   "source": [
    "### STRING SLICING"
   ]
  },
  {
   "cell_type": "code",
   "execution_count": 12,
   "id": "49c7b130",
   "metadata": {},
   "outputs": [
    {
     "name": "stdout",
     "output_type": "stream",
     "text": [
      "Hello\n"
     ]
    }
   ],
   "source": [
    "b = \"Hello, World!\"\n",
    "print(b[:5])    #slicing from the start"
   ]
  },
  {
   "cell_type": "code",
   "execution_count": 11,
   "id": "b71825f4",
   "metadata": {},
   "outputs": [
    {
     "name": "stdout",
     "output_type": "stream",
     "text": [
      "llo, World!\n"
     ]
    }
   ],
   "source": [
    "b = \"Hello, World!\"\n",
    "print(b[2:])  #slicing to the end"
   ]
  },
  {
   "cell_type": "code",
   "execution_count": 3,
   "id": "d497440e",
   "metadata": {},
   "outputs": [
    {
     "name": "stdout",
     "output_type": "stream",
     "text": [
      "llo\n"
     ]
    }
   ],
   "source": [
    "b = \"Hello, World!\"\n",
    "print(b[2:5])"
   ]
  },
  {
   "cell_type": "markdown",
   "id": "31955832",
   "metadata": {},
   "source": [
    "### SLICING USING NEGATIVE INDEXING"
   ]
  },
  {
   "cell_type": "code",
   "execution_count": 13,
   "id": "237e3153",
   "metadata": {},
   "outputs": [
    {
     "name": "stdout",
     "output_type": "stream",
     "text": [
      "orl\n"
     ]
    }
   ],
   "source": [
    "b = \"Hello, World!\"\n",
    "print(b[-5:-2])  #negative indexing"
   ]
  },
  {
   "cell_type": "markdown",
   "id": "28d5c392",
   "metadata": {},
   "source": [
    "### MULTILINE STRINGS"
   ]
  },
  {
   "cell_type": "code",
   "execution_count": 2,
   "id": "abc2fcf3",
   "metadata": {},
   "outputs": [
    {
     "name": "stdout",
     "output_type": "stream",
     "text": [
      "this is,\n",
      "the multiple,\n",
      "lines string.\n",
      "\n"
     ]
    }
   ],
   "source": [
    "a = \"\"\"this is,\n",
    "the multiple,\n",
    "lines string.\n",
    "\"\"\"\n",
    "print(a)"
   ]
  },
  {
   "cell_type": "markdown",
   "id": "5a742ac1",
   "metadata": {},
   "source": [
    "### TO CHECK FOR A WORD IN STRING"
   ]
  },
  {
   "cell_type": "code",
   "execution_count": 7,
   "id": "45bf93b8",
   "metadata": {},
   "outputs": [
    {
     "name": "stdout",
     "output_type": "stream",
     "text": [
      "True\n"
     ]
    }
   ],
   "source": [
    "txt = \"The best things in life are free!\"\n",
    "print(\"free\" in txt)"
   ]
  },
  {
   "cell_type": "code",
   "execution_count": 8,
   "id": "21f7ce8f",
   "metadata": {},
   "outputs": [
    {
     "name": "stdout",
     "output_type": "stream",
     "text": [
      "True\n"
     ]
    }
   ],
   "source": [
    "txt = \"The best things in life are free!\"\n",
    "print(\"expensive\" not in txt)"
   ]
  },
  {
   "cell_type": "markdown",
   "id": "eeca0966",
   "metadata": {},
   "source": [
    "### GETTING STRING LENGTH"
   ]
  },
  {
   "cell_type": "code",
   "execution_count": 5,
   "id": "3abf1d51",
   "metadata": {},
   "outputs": [
    {
     "name": "stdout",
     "output_type": "stream",
     "text": [
      "37\n"
     ]
    }
   ],
   "source": [
    "a = \"Welcome to text based analysis class!\"\n",
    "print(len(a))"
   ]
  },
  {
   "cell_type": "markdown",
   "id": "9c4e4b9c",
   "metadata": {},
   "source": [
    "### STRING FUNCTIONS"
   ]
  },
  {
   "cell_type": "code",
   "execution_count": 19,
   "id": "9692d67b",
   "metadata": {},
   "outputs": [
    {
     "name": "stdout",
     "output_type": "stream",
     "text": [
      "HELLO, WORLD!\n",
      "hello, world!\n",
      "Jello, World!\n",
      "['Hello,', 'World!']\n"
     ]
    }
   ],
   "source": [
    "a = \"Hello, World!\"\n",
    " \n",
    "print(a.upper()) #converts string to uppercase\n",
    "\n",
    "print(a.lower())  #converts string to lowercase\n",
    "\n",
    "print(a.replace(\"H\", \"J\"))  #replaces letter\n",
    "\n",
    "print(a.split()) #Splits the string at the specified separator, and returns a list\n"
   ]
  },
  {
   "cell_type": "markdown",
   "id": "aa1d7536",
   "metadata": {},
   "source": [
    "### STRING CONCATENATION"
   ]
  },
  {
   "cell_type": "code",
   "execution_count": 14,
   "id": "c5cd0804",
   "metadata": {},
   "outputs": [
    {
     "name": "stdout",
     "output_type": "stream",
     "text": [
      "Welcome to text based analysis\n"
     ]
    }
   ],
   "source": [
    "a = \"Welcome to\"\n",
    "b = \"text based analysis\"\n",
    "c = a + \" \" + b\n",
    "print(c)"
   ]
  },
  {
   "cell_type": "markdown",
   "id": "43016e11",
   "metadata": {},
   "source": [
    "### STRING FORMATTING"
   ]
  },
  {
   "cell_type": "code",
   "execution_count": 21,
   "id": "01943321",
   "metadata": {},
   "outputs": [
    {
     "name": "stdout",
     "output_type": "stream",
     "text": [
      "My name is Likitha, and I am 22 years old\n"
     ]
    }
   ],
   "source": [
    "age = 22\n",
    "txt = \"My name is Likitha, and I am {} years old\"\n",
    "print(txt.format(age))"
   ]
  }
 ],
 "metadata": {
  "kernelspec": {
   "display_name": "Python 3 (ipykernel)",
   "language": "python",
   "name": "python3"
  },
  "language_info": {
   "codemirror_mode": {
    "name": "ipython",
    "version": 3
   },
   "file_extension": ".py",
   "mimetype": "text/x-python",
   "name": "python",
   "nbconvert_exporter": "python",
   "pygments_lexer": "ipython3",
   "version": "3.11.5"
  }
 },
 "nbformat": 4,
 "nbformat_minor": 5
}
