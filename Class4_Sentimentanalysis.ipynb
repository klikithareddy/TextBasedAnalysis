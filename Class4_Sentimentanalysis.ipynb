{
 "cells": [
  {
   "cell_type": "markdown",
   "id": "935f5ca8",
   "metadata": {},
   "source": [
    "# CLASSWORK-4 SENTIMENT ANALYSIS"
   ]
  },
  {
   "cell_type": "markdown",
   "id": "889f4e18",
   "metadata": {},
   "source": [
    "## SENTIMENT ANALYSIS"
   ]
  },
  {
   "cell_type": "markdown",
   "id": "9274b266",
   "metadata": {},
   "source": [
    "Sentiment analysis, also known as opinion mining, is a natural language processing (NLP) technique used to determine the sentiment or emotion expressed in a piece of text. The goal is to identify whether the expressed sentiment is positive, negative, or neutral."
   ]
  },
  {
   "cell_type": "code",
   "execution_count": 11,
   "id": "e4648837",
   "metadata": {},
   "outputs": [
    {
     "data": {
      "text/html": [
       "<div>\n",
       "<style scoped>\n",
       "    .dataframe tbody tr th:only-of-type {\n",
       "        vertical-align: middle;\n",
       "    }\n",
       "\n",
       "    .dataframe tbody tr th {\n",
       "        vertical-align: top;\n",
       "    }\n",
       "\n",
       "    .dataframe thead th {\n",
       "        text-align: right;\n",
       "    }\n",
       "</style>\n",
       "<table border=\"1\" class=\"dataframe\">\n",
       "  <thead>\n",
       "    <tr style=\"text-align: right;\">\n",
       "      <th></th>\n",
       "      <th>overall</th>\n",
       "      <th>verified</th>\n",
       "      <th>reviewTime</th>\n",
       "      <th>reviewerID</th>\n",
       "      <th>asin</th>\n",
       "      <th>style</th>\n",
       "      <th>reviewerName</th>\n",
       "      <th>reviewText</th>\n",
       "      <th>summary</th>\n",
       "      <th>unixReviewTime</th>\n",
       "      <th>vote</th>\n",
       "      <th>image</th>\n",
       "    </tr>\n",
       "  </thead>\n",
       "  <tbody>\n",
       "    <tr>\n",
       "      <th>476419</th>\n",
       "      <td>5</td>\n",
       "      <td>True</td>\n",
       "      <td>12 23, 2014</td>\n",
       "      <td>A29XP7EH860KL6</td>\n",
       "      <td>B00LQL4D46</td>\n",
       "      <td>NaN</td>\n",
       "      <td>Mary Kay</td>\n",
       "      <td>Looked through them when the arrived and are v...</td>\n",
       "      <td>Very nice fabric</td>\n",
       "      <td>1419292800</td>\n",
       "      <td>2</td>\n",
       "      <td>NaN</td>\n",
       "    </tr>\n",
       "    <tr>\n",
       "      <th>248900</th>\n",
       "      <td>5</td>\n",
       "      <td>True</td>\n",
       "      <td>09 1, 2013</td>\n",
       "      <td>AVUZS1HR1YQIA</td>\n",
       "      <td>B006VO5NRE</td>\n",
       "      <td>NaN</td>\n",
       "      <td>vickie evans</td>\n",
       "      <td>I am new to painting and I have had some brush...</td>\n",
       "      <td>Great starter burshes.</td>\n",
       "      <td>1377993600</td>\n",
       "      <td>NaN</td>\n",
       "      <td>NaN</td>\n",
       "    </tr>\n",
       "    <tr>\n",
       "      <th>462633</th>\n",
       "      <td>5</td>\n",
       "      <td>True</td>\n",
       "      <td>03 5, 2015</td>\n",
       "      <td>AO1TA54MWD5FV</td>\n",
       "      <td>B00D8IWZRM</td>\n",
       "      <td>NaN</td>\n",
       "      <td>judith a.</td>\n",
       "      <td>Great!!!</td>\n",
       "      <td>great</td>\n",
       "      <td>1425513600</td>\n",
       "      <td>NaN</td>\n",
       "      <td>NaN</td>\n",
       "    </tr>\n",
       "    <tr>\n",
       "      <th>122978</th>\n",
       "      <td>5</td>\n",
       "      <td>True</td>\n",
       "      <td>11 18, 2013</td>\n",
       "      <td>A287IGR5MHN6BB</td>\n",
       "      <td>B001687ZDA</td>\n",
       "      <td>{'Size:': ' By The Yard'}</td>\n",
       "      <td>MeganD</td>\n",
       "      <td>Again, this was for my Halloween Costume and m...</td>\n",
       "      <td>Stayed on like a champ.</td>\n",
       "      <td>1384732800</td>\n",
       "      <td>NaN</td>\n",
       "      <td>NaN</td>\n",
       "    </tr>\n",
       "    <tr>\n",
       "      <th>389753</th>\n",
       "      <td>5</td>\n",
       "      <td>True</td>\n",
       "      <td>09 2, 2016</td>\n",
       "      <td>A1P46Y314WIU65</td>\n",
       "      <td>B015VW38FU</td>\n",
       "      <td>{'Size:': ' 6 Sizes (4-10mm)', 'Color:': ' Sil...</td>\n",
       "      <td>M Nelson</td>\n",
       "      <td>Lots of rings! Great for projects. It was smal...</td>\n",
       "      <td>Great for projects</td>\n",
       "      <td>1472774400</td>\n",
       "      <td>NaN</td>\n",
       "      <td>NaN</td>\n",
       "    </tr>\n",
       "    <tr>\n",
       "      <th>485894</th>\n",
       "      <td>5</td>\n",
       "      <td>True</td>\n",
       "      <td>01 8, 2017</td>\n",
       "      <td>AFL3ZU1KWP3LD</td>\n",
       "      <td>B0107VDKEO</td>\n",
       "      <td>{'Color:': ' Metal Style#1 Clear CrystalAB'}</td>\n",
       "      <td>Linda Stiles</td>\n",
       "      <td>KIND OF EXPENSIVE... BUT GREAT LOOKING!!!</td>\n",
       "      <td>BUT GREAT LOOKING!</td>\n",
       "      <td>1483833600</td>\n",
       "      <td>NaN</td>\n",
       "      <td>NaN</td>\n",
       "    </tr>\n",
       "    <tr>\n",
       "      <th>115387</th>\n",
       "      <td>5</td>\n",
       "      <td>True</td>\n",
       "      <td>09 22, 2015</td>\n",
       "      <td>A1PAGHECG401K1</td>\n",
       "      <td>B0013JNBIK</td>\n",
       "      <td>{'Color:': ' Dove Gray'}</td>\n",
       "      <td>Chel Micheline</td>\n",
       "      <td>This gray ink is so light you can barely see i...</td>\n",
       "      <td>Dove Grey: great faint gray ink for no-line co...</td>\n",
       "      <td>1442880000</td>\n",
       "      <td>NaN</td>\n",
       "      <td>NaN</td>\n",
       "    </tr>\n",
       "    <tr>\n",
       "      <th>149605</th>\n",
       "      <td>5</td>\n",
       "      <td>True</td>\n",
       "      <td>02 8, 2014</td>\n",
       "      <td>A1OMG69AAAJPJO</td>\n",
       "      <td>B001H83B9Q</td>\n",
       "      <td>{'Size:': ' 1 Pack'}</td>\n",
       "      <td>Linda S. Marche</td>\n",
       "      <td>thanks alot</td>\n",
       "      <td>Five Stars</td>\n",
       "      <td>1391817600</td>\n",
       "      <td>NaN</td>\n",
       "      <td>NaN</td>\n",
       "    </tr>\n",
       "    <tr>\n",
       "      <th>299242</th>\n",
       "      <td>5</td>\n",
       "      <td>True</td>\n",
       "      <td>11 8, 2017</td>\n",
       "      <td>A3SCMXMA72PCX9</td>\n",
       "      <td>B00DG8VAYS</td>\n",
       "      <td>{'Size:': ' 5-Inch'}</td>\n",
       "      <td>Star</td>\n",
       "      <td>These rings are sturdy and great for crafts!</td>\n",
       "      <td>Five Stars</td>\n",
       "      <td>1510099200</td>\n",
       "      <td>NaN</td>\n",
       "      <td>NaN</td>\n",
       "    </tr>\n",
       "    <tr>\n",
       "      <th>152012</th>\n",
       "      <td>4</td>\n",
       "      <td>True</td>\n",
       "      <td>08 30, 2016</td>\n",
       "      <td>A3O44KT3HDB7ZB</td>\n",
       "      <td>B001KZH232</td>\n",
       "      <td>{'Size:': ' 50-Yard by 36-Inch Wide'}</td>\n",
       "      <td>mg</td>\n",
       "      <td>Serves its purpose. Bought it for tracing out ...</td>\n",
       "      <td>Four Stars</td>\n",
       "      <td>1472515200</td>\n",
       "      <td>NaN</td>\n",
       "      <td>NaN</td>\n",
       "    </tr>\n",
       "  </tbody>\n",
       "</table>\n",
       "</div>"
      ],
      "text/plain": [
       "        overall  verified   reviewTime      reviewerID        asin  \\\n",
       "476419        5      True  12 23, 2014  A29XP7EH860KL6  B00LQL4D46   \n",
       "248900        5      True   09 1, 2013   AVUZS1HR1YQIA  B006VO5NRE   \n",
       "462633        5      True   03 5, 2015   AO1TA54MWD5FV  B00D8IWZRM   \n",
       "122978        5      True  11 18, 2013  A287IGR5MHN6BB  B001687ZDA   \n",
       "389753        5      True   09 2, 2016  A1P46Y314WIU65  B015VW38FU   \n",
       "485894        5      True   01 8, 2017   AFL3ZU1KWP3LD  B0107VDKEO   \n",
       "115387        5      True  09 22, 2015  A1PAGHECG401K1  B0013JNBIK   \n",
       "149605        5      True   02 8, 2014  A1OMG69AAAJPJO  B001H83B9Q   \n",
       "299242        5      True   11 8, 2017  A3SCMXMA72PCX9  B00DG8VAYS   \n",
       "152012        4      True  08 30, 2016  A3O44KT3HDB7ZB  B001KZH232   \n",
       "\n",
       "                                                    style     reviewerName  \\\n",
       "476419                                                NaN         Mary Kay   \n",
       "248900                                                NaN     vickie evans   \n",
       "462633                                                NaN        judith a.   \n",
       "122978                          {'Size:': ' By The Yard'}           MeganD   \n",
       "389753  {'Size:': ' 6 Sizes (4-10mm)', 'Color:': ' Sil...         M Nelson   \n",
       "485894       {'Color:': ' Metal Style#1 Clear CrystalAB'}     Linda Stiles   \n",
       "115387                           {'Color:': ' Dove Gray'}   Chel Micheline   \n",
       "149605                               {'Size:': ' 1 Pack'}  Linda S. Marche   \n",
       "299242                               {'Size:': ' 5-Inch'}             Star   \n",
       "152012              {'Size:': ' 50-Yard by 36-Inch Wide'}               mg   \n",
       "\n",
       "                                               reviewText  \\\n",
       "476419  Looked through them when the arrived and are v...   \n",
       "248900  I am new to painting and I have had some brush...   \n",
       "462633                                           Great!!!   \n",
       "122978  Again, this was for my Halloween Costume and m...   \n",
       "389753  Lots of rings! Great for projects. It was smal...   \n",
       "485894          KIND OF EXPENSIVE... BUT GREAT LOOKING!!!   \n",
       "115387  This gray ink is so light you can barely see i...   \n",
       "149605                                        thanks alot   \n",
       "299242       These rings are sturdy and great for crafts!   \n",
       "152012  Serves its purpose. Bought it for tracing out ...   \n",
       "\n",
       "                                                  summary  unixReviewTime  \\\n",
       "476419                                   Very nice fabric      1419292800   \n",
       "248900                             Great starter burshes.      1377993600   \n",
       "462633                                              great      1425513600   \n",
       "122978                            Stayed on like a champ.      1384732800   \n",
       "389753                                 Great for projects      1472774400   \n",
       "485894                                 BUT GREAT LOOKING!      1483833600   \n",
       "115387  Dove Grey: great faint gray ink for no-line co...      1442880000   \n",
       "149605                                         Five Stars      1391817600   \n",
       "299242                                         Five Stars      1510099200   \n",
       "152012                                         Four Stars      1472515200   \n",
       "\n",
       "       vote image  \n",
       "476419    2   NaN  \n",
       "248900  NaN   NaN  \n",
       "462633  NaN   NaN  \n",
       "122978  NaN   NaN  \n",
       "389753  NaN   NaN  \n",
       "485894  NaN   NaN  \n",
       "115387  NaN   NaN  \n",
       "149605  NaN   NaN  \n",
       "299242  NaN   NaN  \n",
       "152012  NaN   NaN  "
      ]
     },
     "execution_count": 11,
     "metadata": {},
     "output_type": "execute_result"
    }
   ],
   "source": [
    "#This dataset contains information about arts and crafts and reviewrs from different websites\n",
    "import pandas as pd \n",
    "df = pd.read_json( 'Arts_Crafts_and_Sewing_5.json',lines=True)\n",
    "df.sample(10)\n"
   ]
  },
  {
   "cell_type": "markdown",
   "id": "a41fe951",
   "metadata": {},
   "source": [
    "## IMPORTING LIBRARIES"
   ]
  },
  {
   "cell_type": "code",
   "execution_count": 12,
   "id": "9afd5559",
   "metadata": {},
   "outputs": [],
   "source": [
    "#Importing preprocessing module from sklearn\n",
    "from sklearn import preprocessing\n",
    "import nltk"
   ]
  },
  {
   "cell_type": "markdown",
   "id": "8e4e60e4",
   "metadata": {},
   "source": [
    "## DOWNLOADING OPINION LEXICON"
   ]
  },
  {
   "cell_type": "code",
   "execution_count": 13,
   "id": "84f0c66b",
   "metadata": {},
   "outputs": [
    {
     "name": "stderr",
     "output_type": "stream",
     "text": [
      "[nltk_data] Downloading package opinion_lexicon to\n",
      "[nltk_data]     /Users/likithareddykotla/nltk_data...\n",
      "[nltk_data]   Package opinion_lexicon is already up-to-date!\n"
     ]
    },
    {
     "data": {
      "text/plain": [
       "True"
      ]
     },
     "execution_count": 13,
     "metadata": {},
     "output_type": "execute_result"
    }
   ],
   "source": [
    "#downloads the Opinion Lexicon dataset from NLTK\n",
    "nltk.download('opinion_lexicon')\n"
   ]
  },
  {
   "cell_type": "markdown",
   "id": "b6ed281c",
   "metadata": {},
   "source": [
    "## IMPORTING COMPONENTS FROM NLTK"
   ]
  },
  {
   "cell_type": "code",
   "execution_count": 14,
   "id": "38377ebb",
   "metadata": {},
   "outputs": [],
   "source": [
    "#opinion_lexicon provides access to positive and negative words\n",
    "from nltk.corpus import opinion_lexicon\n",
    "from nltk.tokenize import word_tokenize #word_tokenize is used for tokenization.\n",
    "\n"
   ]
  },
  {
   "cell_type": "markdown",
   "id": "adfc0414",
   "metadata": {},
   "source": [
    "## PRINTING INFORMATION"
   ]
  },
  {
   "cell_type": "code",
   "execution_count": 15,
   "id": "19479fe6",
   "metadata": {},
   "outputs": [
    {
     "name": "stdout",
     "output_type": "stream",
     "text": [
      "Total number of words in opinion lexicon 6789\n",
      "Examples of positive words in opinion lexicon ['a+', 'abound', 'abounds', 'abundance', 'abundant', 'accessable', 'accessible', 'acclaim', 'acclaimed', 'acclamation']\n",
      "Examples of negative words in opinion lexicon ['2-faced', '2-faces', 'abnormal', 'abolish', 'abominable', 'abominably', 'abominate', 'abomination', 'abort', 'aborted']\n"
     ]
    }
   ],
   "source": [
    "# prints total number of words in the opinion lexicon\n",
    "print('Total number of words in opinion lexicon', len(opinion_lexicon.words()))\n",
    "print('Examples of positive words in opinion lexicon',\n",
    "      opinion_lexicon.positive()[:10])     #display examples of positive and negative words from the opinion lexicon\n",
    "print('Examples of negative words in opinion lexicon',\n",
    "      opinion_lexicon.negative()[:10])\n"
   ]
  },
  {
   "cell_type": "markdown",
   "id": "2dc45d5e",
   "metadata": {},
   "source": [
    "## DOWNLOADING  'PUNTK' TOKENIZER'"
   ]
  },
  {
   "cell_type": "code",
   "execution_count": 16,
   "id": "ac6833ae",
   "metadata": {},
   "outputs": [
    {
     "name": "stderr",
     "output_type": "stream",
     "text": [
      "[nltk_data] Downloading package punkt to\n",
      "[nltk_data]     /Users/likithareddykotla/nltk_data...\n",
      "[nltk_data]   Package punkt is already up-to-date!\n"
     ]
    },
    {
     "data": {
      "text/plain": [
       "True"
      ]
     },
     "execution_count": 16,
     "metadata": {},
     "output_type": "execute_result"
    }
   ],
   "source": [
    "#'punkt' tokenizer is a pre-trained unsupervised machine learning model for tokenizing text into words\n",
    "nltk.download('punkt')"
   ]
  },
  {
   "cell_type": "markdown",
   "id": "d5569605",
   "metadata": {},
   "source": [
    "## CREATING SENTIMENT SCORING DICTIONARY FOR REVIEW TEXT"
   ]
  },
  {
   "cell_type": "code",
   "execution_count": 17,
   "id": "1d49219f",
   "metadata": {},
   "outputs": [],
   "source": [
    "# Let's create a dictionary which we can use for scoring our review text\n",
    "df.rename(columns={\"reviewText\": \"text\"}, inplace=True)"
   ]
  },
  {
   "cell_type": "markdown",
   "id": "b17bfc15",
   "metadata": {},
   "source": [
    "## INITIALIZING SCORES"
   ]
  },
  {
   "cell_type": "code",
   "execution_count": 18,
   "id": "9632231f",
   "metadata": {},
   "outputs": [],
   "source": [
    "#set the positive and negative scores to be assigned to words in the word_dict dictionary.\n",
    "pos_score = 1\n",
    "neg_score = -1\n"
   ]
  },
  {
   "cell_type": "markdown",
   "id": "88df50f6",
   "metadata": {},
   "source": [
    "##  CREATING WORD DICTIONARY"
   ]
  },
  {
   "cell_type": "code",
   "execution_count": 24,
   "id": "5ed54e3b",
   "metadata": {},
   "outputs": [],
   "source": [
    "#Adding the positive words to the dictionary\n",
    "word_dict = {}\n",
    "for word in opinion_lexicon.positive():\n",
    "        word_dict[word] = pos_score       #iterates through the positive words in the Opinion Lexicon and assigns each word a positive score in the dictionary\n",
    "      \n",
    "# Adding the negative words to the dictionary\n",
    "for word in opinion_lexicon.negative():\n",
    "        word_dict[word] = neg_score       #iterates throug -ve words and assigns each a -ve score in dictionary\n"
   ]
  },
  {
   "cell_type": "markdown",
   "id": "4d774747",
   "metadata": {},
   "source": [
    "## BING_LIU_SCORE "
   ]
  },
  {
   "cell_type": "markdown",
   "id": "0c9a31a3",
   "metadata": {},
   "source": [
    "The bing_liu_score function is a sentiment scoring function that assigns a sentiment score to a piece of text based on a predefined dictionary (word_dict). "
   ]
  },
  {
   "cell_type": "code",
   "execution_count": 25,
   "id": "db5da607",
   "metadata": {},
   "outputs": [],
   "source": [
    "# Sentiment analysis function using a simple bag-of-words approach\n",
    "def bing_liu_score(text):\n",
    "    sentiment_score = 0\n",
    "    bag_of_words = word_tokenize(text.lower())  #word_tokenize splits the text into individual words.\n",
    "    for word in bag_of_words:\n",
    "        if word in word_dict:\n",
    "            sentiment_score += word_dict[word]\n",
    "    return sentiment_score  \n"
   ]
  },
  {
   "cell_type": "markdown",
   "id": "46d96238",
   "metadata": {},
   "source": [
    "## BING_LU_SCORE() FOR TEXT DF"
   ]
  },
  {
   "cell_type": "code",
   "execution_count": 21,
   "id": "bbfba24e",
   "metadata": {},
   "outputs": [],
   "source": [
    "# Replace missing values in the 'text' column with the string 'no review'\n",
    "df['text'].fillna('no review', inplace=True)\n",
    "df['Bing_Liu_Score'] = df['text'].apply(bing_liu_score)\n"
   ]
  },
  {
   "cell_type": "markdown",
   "id": "882d28ab",
   "metadata": {},
   "source": [
    "## TOP10 ROWS"
   ]
  },
  {
   "cell_type": "code",
   "execution_count": 22,
   "id": "0f8417fa",
   "metadata": {},
   "outputs": [
    {
     "data": {
      "text/html": [
       "<div>\n",
       "<style scoped>\n",
       "    .dataframe tbody tr th:only-of-type {\n",
       "        vertical-align: middle;\n",
       "    }\n",
       "\n",
       "    .dataframe tbody tr th {\n",
       "        vertical-align: top;\n",
       "    }\n",
       "\n",
       "    .dataframe thead th {\n",
       "        text-align: right;\n",
       "    }\n",
       "</style>\n",
       "<table border=\"1\" class=\"dataframe\">\n",
       "  <thead>\n",
       "    <tr style=\"text-align: right;\">\n",
       "      <th></th>\n",
       "      <th>overall</th>\n",
       "      <th>text</th>\n",
       "      <th>Bing_Liu_Score</th>\n",
       "    </tr>\n",
       "  </thead>\n",
       "  <tbody>\n",
       "    <tr>\n",
       "      <th>0</th>\n",
       "      <td>4</td>\n",
       "      <td>Contains some interesting stitches.</td>\n",
       "      <td>1</td>\n",
       "    </tr>\n",
       "    <tr>\n",
       "      <th>1</th>\n",
       "      <td>5</td>\n",
       "      <td>I'm a fairly experienced knitter of the one-co...</td>\n",
       "      <td>22</td>\n",
       "    </tr>\n",
       "    <tr>\n",
       "      <th>2</th>\n",
       "      <td>4</td>\n",
       "      <td>Great book but the index is terrible. Had to w...</td>\n",
       "      <td>0</td>\n",
       "    </tr>\n",
       "    <tr>\n",
       "      <th>3</th>\n",
       "      <td>5</td>\n",
       "      <td>I purchased the Kindle edition which is incred...</td>\n",
       "      <td>4</td>\n",
       "    </tr>\n",
       "    <tr>\n",
       "      <th>4</th>\n",
       "      <td>5</td>\n",
       "      <td>Very well laid out and very easy to read.\\n\\nT...</td>\n",
       "      <td>5</td>\n",
       "    </tr>\n",
       "    <tr>\n",
       "      <th>5</th>\n",
       "      <td>5</td>\n",
       "      <td>Beginning her career as a freelance knitter, M...</td>\n",
       "      <td>15</td>\n",
       "    </tr>\n",
       "    <tr>\n",
       "      <th>6</th>\n",
       "      <td>5</td>\n",
       "      <td>This is a terrific stitch handbook (and I have...</td>\n",
       "      <td>9</td>\n",
       "    </tr>\n",
       "    <tr>\n",
       "      <th>7</th>\n",
       "      <td>4</td>\n",
       "      <td>The book needs to be coil bound. The content i...</td>\n",
       "      <td>1</td>\n",
       "    </tr>\n",
       "    <tr>\n",
       "      <th>8</th>\n",
       "      <td>5</td>\n",
       "      <td>I really am enjoying this book! I like the siz...</td>\n",
       "      <td>12</td>\n",
       "    </tr>\n",
       "    <tr>\n",
       "      <th>9</th>\n",
       "      <td>5</td>\n",
       "      <td>Just received this book and looked over it cov...</td>\n",
       "      <td>6</td>\n",
       "    </tr>\n",
       "  </tbody>\n",
       "</table>\n",
       "</div>"
      ],
      "text/plain": [
       "   overall                                               text  Bing_Liu_Score\n",
       "0        4                Contains some interesting stitches.               1\n",
       "1        5  I'm a fairly experienced knitter of the one-co...              22\n",
       "2        4  Great book but the index is terrible. Had to w...               0\n",
       "3        5  I purchased the Kindle edition which is incred...               4\n",
       "4        5  Very well laid out and very easy to read.\\n\\nT...               5\n",
       "5        5  Beginning her career as a freelance knitter, M...              15\n",
       "6        5  This is a terrific stitch handbook (and I have...               9\n",
       "7        4  The book needs to be coil bound. The content i...               1\n",
       "8        5  I really am enjoying this book! I like the siz...              12\n",
       "9        5  Just received this book and looked over it cov...               6"
      ]
     },
     "execution_count": 22,
     "metadata": {},
     "output_type": "execute_result"
    }
   ],
   "source": [
    "#Previewing the sentiment analysis results for the top 10 rows\n",
    "df[['overall',\"text\", 'Bing_Liu_Score']].head(10)\n"
   ]
  },
  {
   "cell_type": "markdown",
   "id": "dbf435f3",
   "metadata": {},
   "source": [
    "## AVERAGE BING LU SENTIMENT SCORES GROUPED BY OVERALL RATINGS"
   ]
  },
  {
   "cell_type": "code",
   "execution_count": 23,
   "id": "b1ddb46e",
   "metadata": {},
   "outputs": [
    {
     "data": {
      "text/html": [
       "<div>\n",
       "<style scoped>\n",
       "    .dataframe tbody tr th:only-of-type {\n",
       "        vertical-align: middle;\n",
       "    }\n",
       "\n",
       "    .dataframe tbody tr th {\n",
       "        vertical-align: top;\n",
       "    }\n",
       "\n",
       "    .dataframe thead th {\n",
       "        text-align: right;\n",
       "    }\n",
       "</style>\n",
       "<table border=\"1\" class=\"dataframe\">\n",
       "  <thead>\n",
       "    <tr style=\"text-align: right;\">\n",
       "      <th></th>\n",
       "      <th>Bing_Liu_Score</th>\n",
       "    </tr>\n",
       "    <tr>\n",
       "      <th>overall</th>\n",
       "      <th></th>\n",
       "    </tr>\n",
       "  </thead>\n",
       "  <tbody>\n",
       "    <tr>\n",
       "      <th>1</th>\n",
       "      <td>-0.255049</td>\n",
       "    </tr>\n",
       "    <tr>\n",
       "      <th>2</th>\n",
       "      <td>0.566098</td>\n",
       "    </tr>\n",
       "    <tr>\n",
       "      <th>3</th>\n",
       "      <td>1.158796</td>\n",
       "    </tr>\n",
       "    <tr>\n",
       "      <th>4</th>\n",
       "      <td>2.028146</td>\n",
       "    </tr>\n",
       "    <tr>\n",
       "      <th>5</th>\n",
       "      <td>2.130005</td>\n",
       "    </tr>\n",
       "  </tbody>\n",
       "</table>\n",
       "</div>"
      ],
      "text/plain": [
       "         Bing_Liu_Score\n",
       "overall                \n",
       "1             -0.255049\n",
       "2              0.566098\n",
       "3              1.158796\n",
       "4              2.028146\n",
       "5              2.130005"
      ]
     },
     "execution_count": 23,
     "metadata": {},
     "output_type": "execute_result"
    }
   ],
   "source": [
    "#Calculating the mean Bing Liu sentiment score\n",
    "df.groupby('overall').agg({'Bing_Liu_Score':'mean'})\n"
   ]
  }
 ],
 "metadata": {
  "kernelspec": {
   "display_name": "Python 3 (ipykernel)",
   "language": "python",
   "name": "python3"
  },
  "language_info": {
   "codemirror_mode": {
    "name": "ipython",
    "version": 3
   },
   "file_extension": ".py",
   "mimetype": "text/x-python",
   "name": "python",
   "nbconvert_exporter": "python",
   "pygments_lexer": "ipython3",
   "version": "3.11.5"
  }
 },
 "nbformat": 4,
 "nbformat_minor": 5
}
