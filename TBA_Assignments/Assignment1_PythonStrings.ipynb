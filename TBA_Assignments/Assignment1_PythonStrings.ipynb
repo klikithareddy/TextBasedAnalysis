{
 "cells": [
  {
   "cell_type": "markdown",
   "id": "8ec35f56",
   "metadata": {},
   "source": [
    "# ASSIGNMENT-1 STRING OPERATIONS"
   ]
  },
  {
   "cell_type": "markdown",
   "id": "2fb1f0b3",
   "metadata": {},
   "source": [
    "In Python, a string is a sequence of characters enclosed within either single quotes (') or double quotes (\")."
   ]
  },
  {
   "cell_type": "markdown",
   "id": "a1e45c4e",
   "metadata": {},
   "source": [
    "## STRING CONCATENATION"
   ]
  },
  {
   "cell_type": "code",
   "execution_count": 58,
   "id": "0a1d0097",
   "metadata": {},
   "outputs": [
    {
     "name": "stdout",
     "output_type": "stream",
     "text": [
      "Likitha Reddy Kotla \n"
     ]
    }
   ],
   "source": [
    "#We can add two strings using + operator\n",
    "FirstName = \"Likitha Reddy\"\n",
    "LastName = \"Kotla \"\n",
    "Name = FirstName + \" \" + LastName\n",
    "print(Name)"
   ]
  },
  {
   "cell_type": "markdown",
   "id": "dde1a941",
   "metadata": {},
   "source": [
    "## STRING REPETITION OPERATOR"
   ]
  },
  {
   "cell_type": "code",
   "execution_count": 59,
   "id": "94f2fe6b",
   "metadata": {},
   "outputs": [
    {
     "name": "stdout",
     "output_type": "stream",
     "text": [
      "Hi!\n",
      "Hi!\n",
      "Hi!\n",
      "\n"
     ]
    }
   ],
   "source": [
    "#same string can be repeated in Python by n times using *\n",
    "string1 = \"Hi!\\n\"\n",
    "print(string1*3)"
   ]
  },
  {
   "cell_type": "markdown",
   "id": "9495aac3",
   "metadata": {},
   "source": [
    "# STRING SLICING"
   ]
  },
  {
   "cell_type": "markdown",
   "id": "60e265a0",
   "metadata": {},
   "source": [
    "String slicing is a way to extract a portion of a string in Python. You can obtain a substring by specifying a range of indices within the string. "
   ]
  },
  {
   "cell_type": "code",
   "execution_count": 60,
   "id": "6bc7867a",
   "metadata": {},
   "outputs": [
    {
     "name": "stdout",
     "output_type": "stream",
     "text": [
      "Likitha\n",
      "Reddy\n",
      "Kotla\n"
     ]
    }
   ],
   "source": [
    "#index starts from 0\n",
    "Name = \"Likitha Reddy Kotla\"\n",
    "print(Name[0:7]) #upto index 7 but not including it\n",
    "print(Name[8:13])\n",
    "print(Name[14:19])\n"
   ]
  },
  {
   "cell_type": "markdown",
   "id": "b36eae30",
   "metadata": {},
   "source": [
    "## NEAGATIVE INDEXING"
   ]
  },
  {
   "cell_type": "code",
   "execution_count": 61,
   "id": "658dd525",
   "metadata": {},
   "outputs": [
    {
     "name": "stdout",
     "output_type": "stream",
     "text": [
      "Likitha Reddy Kotla\n"
     ]
    }
   ],
   "source": [
    "#Negative index starts from -1\n",
    "print(Name[-19:])"
   ]
  },
  {
   "cell_type": "markdown",
   "id": "bd847afc",
   "metadata": {},
   "source": [
    "## SLICING WITH A STEP"
   ]
  },
  {
   "cell_type": "code",
   "execution_count": 62,
   "id": "e5aa0fac",
   "metadata": {},
   "outputs": [
    {
     "name": "stdout",
     "output_type": "stream",
     "text": [
      "LktaRdyK\n",
      "LktaRdyKta\n"
     ]
    }
   ],
   "source": [
    "#We can say how many steps to skip and print the string\n",
    "print(Name[0:16:2])  #Start:End:Steps_to_skip\n",
    "print(Name[::2]) \n"
   ]
  },
  {
   "cell_type": "markdown",
   "id": "53bb0fc6",
   "metadata": {},
   "source": [
    "## STRING COMPARISON "
   ]
  },
  {
   "cell_type": "code",
   "execution_count": 63,
   "id": "59179ad6",
   "metadata": {},
   "outputs": [
    {
     "name": "stdout",
     "output_type": "stream",
     "text": [
      "False\n"
     ]
    }
   ],
   "source": [
    "#string comparison operator in Python is used to compare two strings\n",
    "S1 = \"Welcome\"\n",
    "S2 = \"welcome\"  #python is case sensitive \n",
    "print(S1 == S2)"
   ]
  },
  {
   "cell_type": "markdown",
   "id": "d5d0bc49",
   "metadata": {},
   "source": [
    "## STRING FORMATTING"
   ]
  },
  {
   "cell_type": "code",
   "execution_count": 75,
   "id": "82217ef0",
   "metadata": {},
   "outputs": [
    {
     "name": "stdout",
     "output_type": "stream",
     "text": [
      "Hey! Likitha\n",
      "I am 22 years old\n",
      "Hi Likitha! My grade is 3.900000\n"
     ]
    }
   ],
   "source": [
    "#string formatting operator is used to format a string as per requirement.\n",
    "Name = \"Likitha\"\n",
    "Age = 22\n",
    "Grade = 3.9\n",
    "print(\"Hey! %s\" %Name)\n",
    "print(\"I am %d years old\" %Age)\n",
    "print(\"Hi %s! My grade is %f\" %(Name ,Grade))"
   ]
  },
  {
   "cell_type": "markdown",
   "id": "0824710a",
   "metadata": {},
   "source": [
    "## STRING  METHODS"
   ]
  },
  {
   "cell_type": "markdown",
   "id": "f5e97fc5",
   "metadata": {},
   "source": [
    "## UPPER() AND LOWER()"
   ]
  },
  {
   "cell_type": "code",
   "execution_count": 76,
   "id": "36336cdb",
   "metadata": {},
   "outputs": [
    {
     "name": "stdout",
     "output_type": "stream",
     "text": [
      "welcome to shu\n",
      "LEARN SOMETHING NEW\n"
     ]
    }
   ],
   "source": [
    "#various methods used in strings\n",
    "s1 = \"Welcome to SHU\"\n",
    "s2 = \"Learn Something New\"\n",
    "s3 = \"HELLO\"\n",
    "print(s1.lower()) #converts whole string to lower case\n",
    "print(s2.upper()) #converts string to upper case\n"
   ]
  },
  {
   "cell_type": "markdown",
   "id": "a8db3339",
   "metadata": {},
   "source": [
    "## ISLOWER() AND ISUPPER()"
   ]
  },
  {
   "cell_type": "code",
   "execution_count": 77,
   "id": "56e191f5",
   "metadata": {},
   "outputs": [
    {
     "name": "stdout",
     "output_type": "stream",
     "text": [
      "False\n",
      "True\n"
     ]
    }
   ],
   "source": [
    "print(s2.islower()) #checks whether complete string is in lower case and returns boolean value\n",
    "print(s3.isupper()) #checks whether complete string is in upper case\n"
   ]
  },
  {
   "cell_type": "markdown",
   "id": "18eff8de",
   "metadata": {},
   "source": [
    "## STARTSWITH() AND ENDSWITH()"
   ]
  },
  {
   "cell_type": "code",
   "execution_count": 81,
   "id": "6c3fd7f4",
   "metadata": {},
   "outputs": [
    {
     "name": "stdout",
     "output_type": "stream",
     "text": [
      "False\n",
      "True\n"
     ]
    }
   ],
   "source": [
    "#checking given string start and end with specific text and return bool value\n",
    "print(s1.startswith(\"WEL\"))\n",
    "print(s2.endswith(\"New\"))"
   ]
  },
  {
   "cell_type": "markdown",
   "id": "cddac268",
   "metadata": {},
   "source": [
    "## JOIN()"
   ]
  },
  {
   "cell_type": "code",
   "execution_count": 85,
   "id": "e8fd319f",
   "metadata": {},
   "outputs": [
    {
     "name": "stdout",
     "output_type": "stream",
     "text": [
      "Welcome-->to-->SHU\n"
     ]
    }
   ],
   "source": [
    "#Join method joins the text\n",
    "print('-->'.join(['Welcome','to','SHU']))"
   ]
  },
  {
   "cell_type": "markdown",
   "id": "99e410cc",
   "metadata": {},
   "source": [
    "## SPLIT()"
   ]
  },
  {
   "cell_type": "code",
   "execution_count": 86,
   "id": "40be521c",
   "metadata": {},
   "outputs": [
    {
     "name": "stdout",
     "output_type": "stream",
     "text": [
      "['Learn', 'Something', 'New']\n"
     ]
    }
   ],
   "source": [
    "#used to split a string into a list of substrings based on a specified delimiter.\n",
    "print(s2.split())"
   ]
  },
  {
   "cell_type": "markdown",
   "id": "2b8a539f",
   "metadata": {},
   "source": [
    "## STRIP()"
   ]
  },
  {
   "cell_type": "code",
   "execution_count": 96,
   "id": "69fed247",
   "metadata": {},
   "outputs": [
    {
     "name": "stdout",
     "output_type": "stream",
     "text": [
      "Learn Something New\n"
     ]
    }
   ],
   "source": [
    "#strip() removes leading and trailing white spaces in text\n",
    "s = \" Learn Something  New \"\n",
    "print(s2.strip())"
   ]
  },
  {
   "cell_type": "markdown",
   "id": "4ce6f44d",
   "metadata": {},
   "source": [
    "## REPLACING CHARACTERS"
   ]
  },
  {
   "cell_type": "code",
   "execution_count": 102,
   "id": "16523572",
   "metadata": {},
   "outputs": [
    {
     "name": "stdout",
     "output_type": "stream",
     "text": [
      " Learn Oomething  New \n"
     ]
    }
   ],
   "source": [
    "#We can replace any character with other characters using replace \n",
    "print(s.replace('S','O'))"
   ]
  },
  {
   "cell_type": "markdown",
   "id": "86bdf902",
   "metadata": {},
   "source": [
    "## FINDING INDEX CHAR FROM TEXT"
   ]
  },
  {
   "cell_type": "code",
   "execution_count": 104,
   "id": "dac447c0",
   "metadata": {},
   "outputs": [
    {
     "name": "stdout",
     "output_type": "stream",
     "text": [
      "index of 'o'in '  Learn Something  New  ': 8\n"
     ]
    }
   ],
   "source": [
    "# We can get index of character using find\n",
    "print(\"index of 'o'in '\", s, \"':\", s.find('o'))"
   ]
  },
  {
   "cell_type": "markdown",
   "id": "ab60c803",
   "metadata": {},
   "source": [
    "## COUNTING CHARACTERS"
   ]
  },
  {
   "cell_type": "code",
   "execution_count": 110,
   "id": "4df6e8e2",
   "metadata": {},
   "outputs": [
    {
     "name": "stdout",
     "output_type": "stream",
     "text": [
      "number of 'o' in   Learn Something  New  ': 1\n"
     ]
    }
   ],
   "source": [
    "# counting occurence of characters in text\n",
    "print(\"number of 'o' in \", s, \"':\", s.count('o'))\n"
   ]
  },
  {
   "cell_type": "markdown",
   "id": "22f11826",
   "metadata": {},
   "source": [
    "# STEMMING"
   ]
  },
  {
   "cell_type": "markdown",
   "id": "6b317898",
   "metadata": {},
   "source": [
    "Stemming is a text normalization technique used in natural language processing (NLP) to reduce words to their root or base form, known as the stem. The stem need not be identical to the morphological root of the word; it is simply a canonical form to which related words can be mapped."
   ]
  },
  {
   "cell_type": "code",
   "execution_count": 2,
   "id": "55eb843d",
   "metadata": {},
   "outputs": [
    {
     "name": "stdout",
     "output_type": "stream",
     "text": [
      "Word\t\tStem\n",
      "--------------------\n",
      "running\t\trun\n",
      "runs\t\trun\n",
      "runner\t\trunner\n",
      "easily\t\teasili\n",
      "fairly\t\tfairli\n",
      "fairness\t\tfair\n"
     ]
    }
   ],
   "source": [
    "import nltk\n",
    "from nltk.stem import PorterStemmer\n",
    "\n",
    "# Initialize the Porter Stemmer\n",
    "stemmer = PorterStemmer()\n",
    "\n",
    "# Example words for stemming\n",
    "words = [\"running\", \"runs\", \"runner\", \"easily\", \"fairly\", \"fairness\"]\n",
    "\n",
    "# Perform stemming on each word and print the results\n",
    "print(\"Word\\t\\tStem\")\n",
    "print(\"-\" * 20)\n",
    "for word in words:\n",
    "    stemmed_word = stemmer.stem(word)\n",
    "    print(f\"{word}\\t\\t{stemmed_word}\")"
   ]
  }
 ],
 "metadata": {
  "kernelspec": {
   "display_name": "Python 3 (ipykernel)",
   "language": "python",
   "name": "python3"
  },
  "language_info": {
   "codemirror_mode": {
    "name": "ipython",
    "version": 3
   },
   "file_extension": ".py",
   "mimetype": "text/x-python",
   "name": "python",
   "nbconvert_exporter": "python",
   "pygments_lexer": "ipython3",
   "version": "3.11.5"
  }
 },
 "nbformat": 4,
 "nbformat_minor": 5
}
