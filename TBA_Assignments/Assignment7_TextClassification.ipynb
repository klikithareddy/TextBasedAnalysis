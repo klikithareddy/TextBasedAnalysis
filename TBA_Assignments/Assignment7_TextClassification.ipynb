{
 "cells": [
  {
   "cell_type": "markdown",
   "id": "3f2defb4",
   "metadata": {},
   "source": [
    "# ASSIGNMENT7_TEXT CLASSIFICATION"
   ]
  },
  {
   "cell_type": "markdown",
   "id": "751558a9",
   "metadata": {},
   "source": [
    "TEXT CLASSIFICATION : \n",
    "Text classification is the process of automatically categorizing or labeling text data into predefined categories or classes based on its content"
   ]
  },
  {
   "cell_type": "markdown",
   "id": "4b9cd441",
   "metadata": {},
   "source": [
    "## IMPORTING PACKAGES AND LOADING DATASET"
   ]
  },
  {
   "cell_type": "code",
   "execution_count": 48,
   "id": "47462c21",
   "metadata": {},
   "outputs": [
    {
     "data": {
      "text/html": [
       "<div>\n",
       "<style scoped>\n",
       "    .dataframe tbody tr th:only-of-type {\n",
       "        vertical-align: middle;\n",
       "    }\n",
       "\n",
       "    .dataframe tbody tr th {\n",
       "        vertical-align: top;\n",
       "    }\n",
       "\n",
       "    .dataframe thead th {\n",
       "        text-align: right;\n",
       "    }\n",
       "</style>\n",
       "<table border=\"1\" class=\"dataframe\">\n",
       "  <thead>\n",
       "    <tr style=\"text-align: right;\">\n",
       "      <th></th>\n",
       "      <th>user_name</th>\n",
       "      <th>user_location</th>\n",
       "      <th>user_description</th>\n",
       "      <th>user_created</th>\n",
       "      <th>user_followers</th>\n",
       "      <th>user_friends</th>\n",
       "      <th>user_favourites</th>\n",
       "      <th>user_verified</th>\n",
       "      <th>date</th>\n",
       "      <th>text</th>\n",
       "      <th>hashtags</th>\n",
       "      <th>source</th>\n",
       "      <th>is_retweet</th>\n",
       "      <th>Sentiment</th>\n",
       "    </tr>\n",
       "  </thead>\n",
       "  <tbody>\n",
       "    <tr>\n",
       "      <th>0</th>\n",
       "      <td>Mari Smith</td>\n",
       "      <td>San Diego, California</td>\n",
       "      <td>Premier Facebook Marketing Expert | Social Med...</td>\n",
       "      <td>9/11/07 22:22</td>\n",
       "      <td>579942</td>\n",
       "      <td>288625</td>\n",
       "      <td>11610</td>\n",
       "      <td>False</td>\n",
       "      <td>9/16/20 20:55</td>\n",
       "      <td>@musicmadmarc @SocialDilemma_ @netflix @Facebo...</td>\n",
       "      <td>NaN</td>\n",
       "      <td>Twitter Web App</td>\n",
       "      <td>False</td>\n",
       "      <td>Neutral</td>\n",
       "    </tr>\n",
       "    <tr>\n",
       "      <th>1</th>\n",
       "      <td>Mari Smith</td>\n",
       "      <td>San Diego, California</td>\n",
       "      <td>Premier Facebook Marketing Expert | Social Med...</td>\n",
       "      <td>9/11/07 22:22</td>\n",
       "      <td>579942</td>\n",
       "      <td>288625</td>\n",
       "      <td>11610</td>\n",
       "      <td>False</td>\n",
       "      <td>9/16/20 20:53</td>\n",
       "      <td>@musicmadmarc @SocialDilemma_ @netflix @Facebo...</td>\n",
       "      <td>NaN</td>\n",
       "      <td>Twitter Web App</td>\n",
       "      <td>False</td>\n",
       "      <td>Neutral</td>\n",
       "    </tr>\n",
       "    <tr>\n",
       "      <th>2</th>\n",
       "      <td>Varun Tyagi</td>\n",
       "      <td>Goa, India</td>\n",
       "      <td>Indian | Tech Solution Artist &amp; Hospitality Ex...</td>\n",
       "      <td>9/6/09 10:36</td>\n",
       "      <td>257</td>\n",
       "      <td>204</td>\n",
       "      <td>475</td>\n",
       "      <td>False</td>\n",
       "      <td>9/16/20 20:51</td>\n",
       "      <td>Go watch “The Social Dilemma” on Netflix!\\n\\nI...</td>\n",
       "      <td>NaN</td>\n",
       "      <td>Twitter for iPhone</td>\n",
       "      <td>False</td>\n",
       "      <td>Positive</td>\n",
       "    </tr>\n",
       "    <tr>\n",
       "      <th>3</th>\n",
       "      <td>Casey Conway</td>\n",
       "      <td>Sydney, New South Wales</td>\n",
       "      <td>Head of Diversity &amp; Inclusion @RugbyAU | It's ...</td>\n",
       "      <td>12/28/12 21:45</td>\n",
       "      <td>11782</td>\n",
       "      <td>1033</td>\n",
       "      <td>12219</td>\n",
       "      <td>True</td>\n",
       "      <td>9/16/20 20:51</td>\n",
       "      <td>I watched #TheSocialDilemma last night. I’m sc...</td>\n",
       "      <td>['TheSocialDilemma']</td>\n",
       "      <td>Twitter for iPhone</td>\n",
       "      <td>False</td>\n",
       "      <td>Negative</td>\n",
       "    </tr>\n",
       "    <tr>\n",
       "      <th>4</th>\n",
       "      <td>Charlotte Paul</td>\n",
       "      <td>Darlington</td>\n",
       "      <td>Instagram Charlottejyates</td>\n",
       "      <td>5/28/12 20:43</td>\n",
       "      <td>278</td>\n",
       "      <td>387</td>\n",
       "      <td>5850</td>\n",
       "      <td>False</td>\n",
       "      <td>9/16/20 20:51</td>\n",
       "      <td>The problem of me being on my phone most the t...</td>\n",
       "      <td>['TheSocialDilemma']</td>\n",
       "      <td>Twitter for iPhone</td>\n",
       "      <td>False</td>\n",
       "      <td>Positive</td>\n",
       "    </tr>\n",
       "  </tbody>\n",
       "</table>\n",
       "</div>"
      ],
      "text/plain": [
       "        user_name            user_location  \\\n",
       "0      Mari Smith    San Diego, California   \n",
       "1      Mari Smith    San Diego, California   \n",
       "2     Varun Tyagi               Goa, India   \n",
       "3    Casey Conway  Sydney, New South Wales   \n",
       "4  Charlotte Paul               Darlington   \n",
       "\n",
       "                                    user_description    user_created  \\\n",
       "0  Premier Facebook Marketing Expert | Social Med...   9/11/07 22:22   \n",
       "1  Premier Facebook Marketing Expert | Social Med...   9/11/07 22:22   \n",
       "2  Indian | Tech Solution Artist & Hospitality Ex...    9/6/09 10:36   \n",
       "3  Head of Diversity & Inclusion @RugbyAU | It's ...  12/28/12 21:45   \n",
       "4                          Instagram Charlottejyates   5/28/12 20:43   \n",
       "\n",
       "   user_followers  user_friends  user_favourites  user_verified  \\\n",
       "0          579942        288625            11610          False   \n",
       "1          579942        288625            11610          False   \n",
       "2             257           204              475          False   \n",
       "3           11782          1033            12219           True   \n",
       "4             278           387             5850          False   \n",
       "\n",
       "            date                                               text  \\\n",
       "0  9/16/20 20:55  @musicmadmarc @SocialDilemma_ @netflix @Facebo...   \n",
       "1  9/16/20 20:53  @musicmadmarc @SocialDilemma_ @netflix @Facebo...   \n",
       "2  9/16/20 20:51  Go watch “The Social Dilemma” on Netflix!\\n\\nI...   \n",
       "3  9/16/20 20:51  I watched #TheSocialDilemma last night. I’m sc...   \n",
       "4  9/16/20 20:51  The problem of me being on my phone most the t...   \n",
       "\n",
       "               hashtags              source  is_retweet Sentiment  \n",
       "0                   NaN     Twitter Web App       False   Neutral  \n",
       "1                   NaN     Twitter Web App       False   Neutral  \n",
       "2                   NaN  Twitter for iPhone       False  Positive  \n",
       "3  ['TheSocialDilemma']  Twitter for iPhone       False  Negative  \n",
       "4  ['TheSocialDilemma']  Twitter for iPhone       False  Positive  "
      ]
     },
     "execution_count": 48,
     "metadata": {},
     "output_type": "execute_result"
    }
   ],
   "source": [
    "#importing pandas\n",
    "import pandas as pd\n",
    "# Read data into df\n",
    "df = pd.read_csv('TheSocialDilemma.csv')   \n",
    "#displays first five columns\n",
    "df.head()\n"
   ]
  },
  {
   "cell_type": "markdown",
   "id": "c37d5635",
   "metadata": {},
   "source": [
    "## BAR CHART"
   ]
  },
  {
   "cell_type": "code",
   "execution_count": 49,
   "id": "3341b48a",
   "metadata": {},
   "outputs": [
    {
     "data": {
      "text/plain": [
       "<Axes: xlabel='user_verified'>"
      ]
     },
     "execution_count": 49,
     "metadata": {},
     "output_type": "execute_result"
    },
    {
     "data": {
      "image/png": "[encoded data removed]",
      "text/plain": [
       "<Figure size 640x480 with 1 Axes>"
      ]
     },
     "metadata": {},
     "output_type": "display_data"
    }
   ],
   "source": [
    "# Plot the bar chart\n",
    "df['user_verified'].value_counts().sort_index().plot(kind='bar')\n"
   ]
  },
  {
   "cell_type": "markdown",
   "id": "063402b6",
   "metadata": {},
   "source": [
    "## BAR PLOT"
   ]
  },
  {
   "cell_type": "code",
   "execution_count": 50,
   "id": "5472e04c",
   "metadata": {},
   "outputs": [
    {
     "data": {
      "text/plain": [
       "<Axes: xlabel='Sentiment'>"
      ]
     },
     "execution_count": 50,
     "metadata": {},
     "output_type": "execute_result"
    },
    {
     "data": {
      "image/png": "[encoded data removed]",
      "text/plain": [
       "<Figure size 640x480 with 1 Axes>"
      ]
     },
     "metadata": {},
     "output_type": "display_data"
    }
   ],
   "source": [
    "# Plot the bar chart\n",
    "df['Sentiment'].value_counts().sort_index().plot(kind='bar')\n"
   ]
  },
  {
   "cell_type": "markdown",
   "id": "8130e779",
   "metadata": {},
   "source": [
    "## FUNCTION TO REMOVE ODD WORDS\n",
    "Odd words refer to words that are uncommon or rare within a given context. These are words that occur infrequently compared to other words in the text.Removing odd words from text data can be beneficial for Noise Reduction,Dimensionality Reduction, Improved Generalization, Enhanced Interpretability."
   ]
  },
  {
   "cell_type": "code",
   "execution_count": 51,
   "id": "59803ab5",
   "metadata": {},
   "outputs": [],
   "source": [
    "#importing html and regex\n",
    "import html\n",
    "import re\n",
    "def clean(text):\n",
    "    # convert html escapes like & to characters.\n",
    "    text = html.unescape(text) \n",
    "    # tags like \n",
    "    text = re.sub(r'<[^<>]*>', ' ', text)\n",
    "    # markdown URLs like [Some text](https://....)\n",
    "    text = re.sub(r'\\[([^\\[\\]]*)\\]\\([^\\(\\)]*\\)', r'\\1', text)\n",
    "    # text or code in brackets like [0]\n",
    "    text = re.sub(r'\\[[^\\[\\]]*\\]', ' ', text)\n",
    "    # standalone sequences of specials, matches  but not #cool\n",
    "    text = re.sub(r'(?:^|\\s)[<>{}\\[\\]+|\\\\:-]{1,}(?:\\s|$)', ' ', text)\n",
    "    # standalone sequences of hyphens like --- or ==\n",
    "    text = re.sub(r'(?:^|\\s)[\\-=\\+]{2,}(?:\\s|$)', ' ', text)\n",
    "    # sequences of white spaces\n",
    "    text = re.sub(r'\\s+', ' ', text)\n",
    "    return text.strip()\n"
   ]
  },
  {
   "cell_type": "markdown",
   "id": "c7b4528d",
   "metadata": {},
   "source": [
    "## DATA CLEANING\n",
    "Data cleaning is the process of preparing and transforming raw data into a clean and structured format suitable for analysis or other downstream tasks. It involves identifying and correcting errors, inconsistencies, and inaccuracies in the data. "
   ]
  },
  {
   "cell_type": "code",
   "execution_count": 52,
   "id": "785b07d2",
   "metadata": {},
   "outputs": [
    {
     "data": {
      "text/html": [
       "<div>\n",
       "<style scoped>\n",
       "    .dataframe tbody tr th:only-of-type {\n",
       "        vertical-align: middle;\n",
       "    }\n",
       "\n",
       "    .dataframe tbody tr th {\n",
       "        vertical-align: top;\n",
       "    }\n",
       "\n",
       "    .dataframe thead th {\n",
       "        text-align: right;\n",
       "    }\n",
       "</style>\n",
       "<table border=\"1\" class=\"dataframe\">\n",
       "  <thead>\n",
       "    <tr style=\"text-align: right;\">\n",
       "      <th></th>\n",
       "      <th>Sentiment</th>\n",
       "      <th>title</th>\n",
       "    </tr>\n",
       "  </thead>\n",
       "  <tbody>\n",
       "    <tr>\n",
       "      <th>4116</th>\n",
       "      <td>Positive</td>\n",
       "      <td>Ironic sharing this after watching the film si...</td>\n",
       "    </tr>\n",
       "    <tr>\n",
       "      <th>18046</th>\n",
       "      <td>Neutral</td>\n",
       "      <td>Just finished watching this documentary on Net...</td>\n",
       "    </tr>\n",
       "  </tbody>\n",
       "</table>\n",
       "</div>"
      ],
      "text/plain": [
       "      Sentiment                                              title\n",
       "4116   Positive  Ironic sharing this after watching the film si...\n",
       "18046   Neutral  Just finished watching this documentary on Net..."
      ]
     },
     "execution_count": 52,
     "metadata": {},
     "output_type": "execute_result"
    }
   ],
   "source": [
    "# Selecting only the 'user_description' and 'text','Sentiment' columns\n",
    "df = df[['user_description', 'text', 'Sentiment']]\n",
    "\n",
    "# Dropping rows with NaN values\n",
    "df = df.dropna()\n",
    "\n",
    "# Combining the 'user_description' and 'text' columns into a single 'title' column\n",
    "df['title'] = df['text'] + ' ' + df['user_description']\n",
    "\n",
    "# Dropping the 'user_description' and 'text' columns after combining them into 'title'\n",
    "df = df.drop(columns=['user_description', 'text'])\n",
    "\n",
    "# Applying the clean function (assuming you have defined it somewhere)\n",
    "df['title'] = df['title'].apply(clean)\n",
    "\n",
    "# Filtering out rows where the length of 'title' is less than 50\n",
    "df = df[df['title'].str.len() > 50]\n",
    "\n",
    "# Displaying a sample of the resulting DataFrame\n",
    "df.sample(2)\n"
   ]
  },
  {
   "cell_type": "markdown",
   "id": "26c12b82",
   "metadata": {},
   "source": [
    "## TRAIN TEST AND SPLIT"
   ]
  },
  {
   "cell_type": "code",
   "execution_count": 54,
   "id": "5d5f35b4",
   "metadata": {},
   "outputs": [
    {
     "name": "stdout",
     "output_type": "stream",
     "text": [
      "Size of Training Data  14902\n",
      "Size of Test Data  3726\n"
     ]
    }
   ],
   "source": [
    "#Importing train_test_split from scikit-learn's model_selection module\n",
    "from sklearn.model_selection import train_test_split\n",
    "\n",
    "#Splitting the 'title' column (features) and the 'Sentiment' column (target) \n",
    "X_train, X_test, Y_train, Y_test = train_test_split(df['title'],\n",
    "                                                    df['Sentiment'],\n",
    "                                                    test_size=0.2,\n",
    "                                                    random_state=42,\n",
    "                                                    stratify=df['Sentiment'])\n",
    "\n",
    "#Printing the sizes of the training and testing data\n",
    "print('Size of Training Data ', X_train.shape[0])\n",
    "print('Size of Test Data ', X_test.shape[0])\n"
   ]
  },
  {
   "cell_type": "markdown",
   "id": "f339e3c8",
   "metadata": {},
   "source": [
    "## TRAINING MODEL USIN SVM "
   ]
  },
  {
   "cell_type": "code",
   "execution_count": 55,
   "id": "2276fec8",
   "metadata": {},
   "outputs": [],
   "source": [
    "#importing functions and classes from scikit-learn\n",
    "from sklearn.feature_extraction.text import TfidfVectorizer\n",
    "from sklearn.svm import SVC\n",
    "#Creating an instance of TfidfVectorizer with specified parameters\n",
    "tfidf = TfidfVectorizer(min_df = 10, ngram_range=(1,2), stop_words=\"english\")\n",
    "X_train_tf = tfidf.fit_transform(X_train)\n",
    "X_test_tf = tfidf.transform(X_test)\n"
   ]
  },
  {
   "cell_type": "markdown",
   "id": "7756c9c8",
   "metadata": {},
   "source": [
    "## BUILDING THE MODEL"
   ]
  },
  {
   "cell_type": "code",
   "execution_count": 56,
   "id": "2b6dda38",
   "metadata": {},
   "outputs": [
    {
     "name": "stderr",
     "output_type": "stream",
     "text": [
      "/Users/likithareddykotla/anaconda3/lib/python3.11/site-packages/sklearn/svm/_classes.py:31: FutureWarning: The default value of `dual` will change from `True` to `'auto'` in 1.5. Set the value of `dual` explicitly to suppress the warning.\n",
      "  warnings.warn(\n"
     ]
    },
    {
     "data": {
      "text/html": [
       "<style>#sk-container-id-2 {\n",
       "  /* Definition of color scheme common for light and dark mode */\n",
       "  --sklearn-color-text: black;\n",
       "  --sklearn-color-line: gray;\n",
       "  /* Definition of color scheme for unfitted estimators */\n",
       "  --sklearn-color-unfitted-level-0: #fff5e6;\n",
       "  --sklearn-color-unfitted-level-1: #f6e4d2;\n",
       "  --sklearn-color-unfitted-level-2: #ffe0b3;\n",
       "  --sklearn-color-unfitted-level-3: chocolate;\n",
       "  /* Definition of color scheme for fitted estimators */\n",
       "  --sklearn-color-fitted-level-0: #f0f8ff;\n",
       "  --sklearn-color-fitted-level-1: #d4ebff;\n",
       "  --sklearn-color-fitted-level-2: #b3dbfd;\n",
       "  --sklearn-color-fitted-level-3: cornflowerblue;\n",
       "\n",
       "  /* Specific color for light theme */\n",
       "  --sklearn-color-text-on-default-background: var(--sg-text-color, var(--theme-code-foreground, var(--jp-content-font-color1, black)));\n",
       "  --sklearn-color-background: var(--sg-background-color, var(--theme-background, var(--jp-layout-color0, white)));\n",
       "  --sklearn-color-border-box: var(--sg-text-color, var(--theme-code-foreground, var(--jp-content-font-color1, black)));\n",
       "  --sklearn-color-icon: #696969;\n",
       "\n",
       "  @media (prefers-color-scheme: dark) {\n",
       "    /* Redefinition of color scheme for dark theme */\n",
       "    --sklearn-color-text-on-default-background: var(--sg-text-color, var(--theme-code-foreground, var(--jp-content-font-color1, white)));\n",
       "    --sklearn-color-background: var(--sg-background-color, var(--theme-background, var(--jp-layout-color0, #111)));\n",
       "    --sklearn-color-border-box: var(--sg-text-color, var(--theme-code-foreground, var(--jp-content-font-color1, white)));\n",
       "    --sklearn-color-icon: #878787;\n",
       "  }\n",
       "}\n",
       "\n",
       "#sk-container-id-2 {\n",
       "  color: var(--sklearn-color-text);\n",
       "}\n",
       "\n",
       "#sk-container-id-2 pre {\n",
       "  padding: 0;\n",
       "}\n",
       "\n",
       "#sk-container-id-2 input.sk-hidden--visually {\n",
       "  border: 0;\n",
       "  clip: rect(1px 1px 1px 1px);\n",
       "  clip: rect(1px, 1px, 1px, 1px);\n",
       "  height: 1px;\n",
       "  margin: -1px;\n",
       "  overflow: hidden;\n",
       "  padding: 0;\n",
       "  position: absolute;\n",
       "  width: 1px;\n",
       "}\n",
       "\n",
       "#sk-container-id-2 div.sk-dashed-wrapped {\n",
       "  border: 1px dashed var(--sklearn-color-line);\n",
       "  margin: 0 0.4em 0.5em 0.4em;\n",
       "  box-sizing: border-box;\n",
       "  padding-bottom: 0.4em;\n",
       "  background-color: var(--sklearn-color-background);\n",
       "}\n",
       "\n",
       "#sk-container-id-2 div.sk-container {\n",
       "  /* jupyter's `normalize.less` sets `[hidden] { display: none; }`\n",
       "     but bootstrap.min.css set `[hidden] { display: none !important; }`\n",
       "     so we also need the `!important` here to be able to override the\n",
       "     default hidden behavior on the sphinx rendered scikit-learn.org.\n",
       "     See: https://github.com/scikit-learn/scikit-learn/issues/21755 */\n",
       "  display: inline-block !important;\n",
       "  position: relative;\n",
       "}\n",
       "\n",
       "#sk-container-id-2 div.sk-text-repr-fallback {\n",
       "  display: none;\n",
       "}\n",
       "\n",
       "div.sk-parallel-item,\n",
       "div.sk-serial,\n",
       "div.sk-item {\n",
       "  /* draw centered vertical line to link estimators */\n",
       "  background-image: linear-gradient(var(--sklearn-color-text-on-default-background), var(--sklearn-color-text-on-default-background));\n",
       "  background-size: 2px 100%;\n",
       "  background-repeat: no-repeat;\n",
       "  background-position: center center;\n",
       "}\n",
       "\n",
       "/* Parallel-specific style estimator block */\n",
       "\n",
       "#sk-container-id-2 div.sk-parallel-item::after {\n",
       "  content: \"\";\n",
       "  width: 100%;\n",
       "  border-bottom: 2px solid var(--sklearn-color-text-on-default-background);\n",
       "  flex-grow: 1;\n",
       "}\n",
       "\n",
       "#sk-container-id-2 div.sk-parallel {\n",
       "  display: flex;\n",
       "  align-items: stretch;\n",
       "  justify-content: center;\n",
       "  background-color: var(--sklearn-color-background);\n",
       "  position: relative;\n",
       "}\n",
       "\n",
       "#sk-container-id-2 div.sk-parallel-item {\n",
       "  display: flex;\n",
       "  flex-direction: column;\n",
       "}\n",
       "\n",
       "#sk-container-id-2 div.sk-parallel-item:first-child::after {\n",
       "  align-self: flex-end;\n",
       "  width: 50%;\n",
       "}\n",
       "\n",
       "#sk-container-id-2 div.sk-parallel-item:last-child::after {\n",
       "  align-self: flex-start;\n",
       "  width: 50%;\n",
       "}\n",
       "\n",
       "#sk-container-id-2 div.sk-parallel-item:only-child::after {\n",
       "  width: 0;\n",
       "}\n",
       "\n",
       "/* Serial-specific style estimator block */\n",
       "\n",
       "#sk-container-id-2 div.sk-serial {\n",
       "  display: flex;\n",
       "  flex-direction: column;\n",
       "  align-items: center;\n",
       "  background-color: var(--sklearn-color-background);\n",
       "  padding-right: 1em;\n",
       "  padding-left: 1em;\n",
       "}\n",
       "\n",
       "\n",
       "/* Toggleable style: style used for estimator/Pipeline/ColumnTransformer box that is\n",
       "clickable and can be expanded/collapsed.\n",
       "- Pipeline and ColumnTransformer use this feature and define the default style\n",
       "- Estimators will overwrite some part of the style using the `sk-estimator` class\n",
       "*/\n",
       "\n",
       "/* Pipeline and ColumnTransformer style (default) */\n",
       "\n",
       "#sk-container-id-2 div.sk-toggleable {\n",
       "  /* Default theme specific background. It is overwritten whether we have a\n",
       "  specific estimator or a Pipeline/ColumnTransformer */\n",
       "  background-color: var(--sklearn-color-background);\n",
       "}\n",
       "\n",
       "/* Toggleable label */\n",
       "#sk-container-id-2 label.sk-toggleable__label {\n",
       "  cursor: pointer;\n",
       "  display: block;\n",
       "  width: 100%;\n",
       "  margin-bottom: 0;\n",
       "  padding: 0.5em;\n",
       "  box-sizing: border-box;\n",
       "  text-align: center;\n",
       "}\n",
       "\n",
       "#sk-container-id-2 label.sk-toggleable__label-arrow:before {\n",
       "  /* Arrow on the left of the label */\n",
       "  content: \"▸\";\n",
       "  float: left;\n",
       "  margin-right: 0.25em;\n",
       "  color: var(--sklearn-color-icon);\n",
       "}\n",
       "\n",
       "#sk-container-id-2 label.sk-toggleable__label-arrow:hover:before {\n",
       "  color: var(--sklearn-color-text);\n",
       "}\n",
       "\n",
       "/* Toggleable content - dropdown */\n",
       "\n",
       "#sk-container-id-2 div.sk-toggleable__content {\n",
       "  max-height: 0;\n",
       "  max-width: 0;\n",
       "  overflow: hidden;\n",
       "  text-align: left;\n",
       "  /* unfitted */\n",
       "  background-color: var(--sklearn-color-unfitted-level-0);\n",
       "}\n",
       "\n",
       "#sk-container-id-2 div.sk-toggleable__content.fitted {\n",
       "  /* fitted */\n",
       "  background-color: var(--sklearn-color-fitted-level-0);\n",
       "}\n",
       "\n",
       "#sk-container-id-2 div.sk-toggleable__content pre {\n",
       "  margin: 0.2em;\n",
       "  border-radius: 0.25em;\n",
       "  color: var(--sklearn-color-text);\n",
       "  /* unfitted */\n",
       "  background-color: var(--sklearn-color-unfitted-level-0);\n",
       "}\n",
       "\n",
       "#sk-container-id-2 div.sk-toggleable__content.fitted pre {\n",
       "  /* unfitted */\n",
       "  background-color: var(--sklearn-color-fitted-level-0);\n",
       "}\n",
       "\n",
       "#sk-container-id-2 input.sk-toggleable__control:checked~div.sk-toggleable__content {\n",
       "  /* Expand drop-down */\n",
       "  max-height: 200px;\n",
       "  max-width: 100%;\n",
       "  overflow: auto;\n",
       "}\n",
       "\n",
       "#sk-container-id-2 input.sk-toggleable__control:checked~label.sk-toggleable__label-arrow:before {\n",
       "  content: \"▾\";\n",
       "}\n",
       "\n",
       "/* Pipeline/ColumnTransformer-specific style */\n",
       "\n",
       "#sk-container-id-2 div.sk-label input.sk-toggleable__control:checked~label.sk-toggleable__label {\n",
       "  color: var(--sklearn-color-text);\n",
       "  background-color: var(--sklearn-color-unfitted-level-2);\n",
       "}\n",
       "\n",
       "#sk-container-id-2 div.sk-label.fitted input.sk-toggleable__control:checked~label.sk-toggleable__label {\n",
       "  background-color: var(--sklearn-color-fitted-level-2);\n",
       "}\n",
       "\n",
       "/* Estimator-specific style */\n",
       "\n",
       "/* Colorize estimator box */\n",
       "#sk-container-id-2 div.sk-estimator input.sk-toggleable__control:checked~label.sk-toggleable__label {\n",
       "  /* unfitted */\n",
       "  background-color: var(--sklearn-color-unfitted-level-2);\n",
       "}\n",
       "\n",
       "#sk-container-id-2 div.sk-estimator.fitted input.sk-toggleable__control:checked~label.sk-toggleable__label {\n",
       "  /* fitted */\n",
       "  background-color: var(--sklearn-color-fitted-level-2);\n",
       "}\n",
       "\n",
       "#sk-container-id-2 div.sk-label label.sk-toggleable__label,\n",
       "#sk-container-id-2 div.sk-label label {\n",
       "  /* The background is the default theme color */\n",
       "  color: var(--sklearn-color-text-on-default-background);\n",
       "}\n",
       "\n",
       "/* On hover, darken the color of the background */\n",
       "#sk-container-id-2 div.sk-label:hover label.sk-toggleable__label {\n",
       "  color: var(--sklearn-color-text);\n",
       "  background-color: var(--sklearn-color-unfitted-level-2);\n",
       "}\n",
       "\n",
       "/* Label box, darken color on hover, fitted */\n",
       "#sk-container-id-2 div.sk-label.fitted:hover label.sk-toggleable__label.fitted {\n",
       "  color: var(--sklearn-color-text);\n",
       "  background-color: var(--sklearn-color-fitted-level-2);\n",
       "}\n",
       "\n",
       "/* Estimator label */\n",
       "\n",
       "#sk-container-id-2 div.sk-label label {\n",
       "  font-family: monospace;\n",
       "  font-weight: bold;\n",
       "  display: inline-block;\n",
       "  line-height: 1.2em;\n",
       "}\n",
       "\n",
       "#sk-container-id-2 div.sk-label-container {\n",
       "  text-align: center;\n",
       "}\n",
       "\n",
       "/* Estimator-specific */\n",
       "#sk-container-id-2 div.sk-estimator {\n",
       "  font-family: monospace;\n",
       "  border: 1px dotted var(--sklearn-color-border-box);\n",
       "  border-radius: 0.25em;\n",
       "  box-sizing: border-box;\n",
       "  margin-bottom: 0.5em;\n",
       "  /* unfitted */\n",
       "  background-color: var(--sklearn-color-unfitted-level-0);\n",
       "}\n",
       "\n",
       "#sk-container-id-2 div.sk-estimator.fitted {\n",
       "  /* fitted */\n",
       "  background-color: var(--sklearn-color-fitted-level-0);\n",
       "}\n",
       "\n",
       "/* on hover */\n",
       "#sk-container-id-2 div.sk-estimator:hover {\n",
       "  /* unfitted */\n",
       "  background-color: var(--sklearn-color-unfitted-level-2);\n",
       "}\n",
       "\n",
       "#sk-container-id-2 div.sk-estimator.fitted:hover {\n",
       "  /* fitted */\n",
       "  background-color: var(--sklearn-color-fitted-level-2);\n",
       "}\n",
       "\n",
       "/* Specification for estimator info (e.g. \"i\" and \"?\") */\n",
       "\n",
       "/* Common style for \"i\" and \"?\" */\n",
       "\n",
       ".sk-estimator-doc-link,\n",
       "a:link.sk-estimator-doc-link,\n",
       "a:visited.sk-estimator-doc-link {\n",
       "  float: right;\n",
       "  font-size: smaller;\n",
       "  line-height: 1em;\n",
       "  font-family: monospace;\n",
       "  background-color: var(--sklearn-color-background);\n",
       "  border-radius: 1em;\n",
       "  height: 1em;\n",
       "  width: 1em;\n",
       "  text-decoration: none !important;\n",
       "  margin-left: 1ex;\n",
       "  /* unfitted */\n",
       "  border: var(--sklearn-color-unfitted-level-1) 1pt solid;\n",
       "  color: var(--sklearn-color-unfitted-level-1);\n",
       "}\n",
       "\n",
       ".sk-estimator-doc-link.fitted,\n",
       "a:link.sk-estimator-doc-link.fitted,\n",
       "a:visited.sk-estimator-doc-link.fitted {\n",
       "  /* fitted */\n",
       "  border: var(--sklearn-color-fitted-level-1) 1pt solid;\n",
       "  color: var(--sklearn-color-fitted-level-1);\n",
       "}\n",
       "\n",
       "/* On hover */\n",
       "div.sk-estimator:hover .sk-estimator-doc-link:hover,\n",
       ".sk-estimator-doc-link:hover,\n",
       "div.sk-label-container:hover .sk-estimator-doc-link:hover,\n",
       ".sk-estimator-doc-link:hover {\n",
       "  /* unfitted */\n",
       "  background-color: var(--sklearn-color-unfitted-level-3);\n",
       "  color: var(--sklearn-color-background);\n",
       "  text-decoration: none;\n",
       "}\n",
       "\n",
       "div.sk-estimator.fitted:hover .sk-estimator-doc-link.fitted:hover,\n",
       ".sk-estimator-doc-link.fitted:hover,\n",
       "div.sk-label-container:hover .sk-estimator-doc-link.fitted:hover,\n",
       ".sk-estimator-doc-link.fitted:hover {\n",
       "  /* fitted */\n",
       "  background-color: var(--sklearn-color-fitted-level-3);\n",
       "  color: var(--sklearn-color-background);\n",
       "  text-decoration: none;\n",
       "}\n",
       "\n",
       "/* Span, style for the box shown on hovering the info icon */\n",
       ".sk-estimator-doc-link span {\n",
       "  display: none;\n",
       "  z-index: 9999;\n",
       "  position: relative;\n",
       "  font-weight: normal;\n",
       "  right: .2ex;\n",
       "  padding: .5ex;\n",
       "  margin: .5ex;\n",
       "  width: min-content;\n",
       "  min-width: 20ex;\n",
       "  max-width: 50ex;\n",
       "  color: var(--sklearn-color-text);\n",
       "  box-shadow: 2pt 2pt 4pt #999;\n",
       "  /* unfitted */\n",
       "  background: var(--sklearn-color-unfitted-level-0);\n",
       "  border: .5pt solid var(--sklearn-color-unfitted-level-3);\n",
       "}\n",
       "\n",
       ".sk-estimator-doc-link.fitted span {\n",
       "  /* fitted */\n",
       "  background: var(--sklearn-color-fitted-level-0);\n",
       "  border: var(--sklearn-color-fitted-level-3);\n",
       "}\n",
       "\n",
       ".sk-estimator-doc-link:hover span {\n",
       "  display: block;\n",
       "}\n",
       "\n",
       "/* \"?\"-specific style due to the `<a>` HTML tag */\n",
       "\n",
       "#sk-container-id-2 a.estimator_doc_link {\n",
       "  float: right;\n",
       "  font-size: 1rem;\n",
       "  line-height: 1em;\n",
       "  font-family: monospace;\n",
       "  background-color: var(--sklearn-color-background);\n",
       "  border-radius: 1rem;\n",
       "  height: 1rem;\n",
       "  width: 1rem;\n",
       "  text-decoration: none;\n",
       "  /* unfitted */\n",
       "  color: var(--sklearn-color-unfitted-level-1);\n",
       "  border: var(--sklearn-color-unfitted-level-1) 1pt solid;\n",
       "}\n",
       "\n",
       "#sk-container-id-2 a.estimator_doc_link.fitted {\n",
       "  /* fitted */\n",
       "  border: var(--sklearn-color-fitted-level-1) 1pt solid;\n",
       "  color: var(--sklearn-color-fitted-level-1);\n",
       "}\n",
       "\n",
       "/* On hover */\n",
       "#sk-container-id-2 a.estimator_doc_link:hover {\n",
       "  /* unfitted */\n",
       "  background-color: var(--sklearn-color-unfitted-level-3);\n",
       "  color: var(--sklearn-color-background);\n",
       "  text-decoration: none;\n",
       "}\n",
       "\n",
       "#sk-container-id-2 a.estimator_doc_link.fitted:hover {\n",
       "  /* fitted */\n",
       "  background-color: var(--sklearn-color-fitted-level-3);\n",
       "}\n",
       "</style><div id=\"sk-container-id-2\" class=\"sk-top-container\"><div class=\"sk-text-repr-fallback\"><pre>LinearSVC(random_state=0, tol=1e-05)</pre><b>In a Jupyter environment, please rerun this cell to show the HTML representation or trust the notebook. <br />On GitHub, the HTML representation is unable to render, please try loading this page with nbviewer.org.</b></div><div class=\"sk-container\" hidden><div class=\"sk-item\"><div class=\"sk-estimator fitted sk-toggleable\"><input class=\"sk-toggleable__control sk-hidden--visually\" id=\"sk-estimator-id-2\" type=\"checkbox\" checked><label for=\"sk-estimator-id-2\" class=\"sk-toggleable__label fitted sk-toggleable__label-arrow fitted\">&nbsp;&nbsp;LinearSVC<a class=\"sk-estimator-doc-link fitted\" rel=\"noreferrer\" target=\"_blank\" href=\"https://scikit-learn.org/1.4/modules/generated/sklearn.svm.LinearSVC.html\">?<span>Documentation for LinearSVC</span></a><span class=\"sk-estimator-doc-link fitted\">i<span>Fitted</span></span></label><div class=\"sk-toggleable__content fitted\"><pre>LinearSVC(random_state=0, tol=1e-05)</pre></div> </div></div></div></div>"
      ],
      "text/plain": [
       "LinearSVC(random_state=0, tol=1e-05)"
      ]
     },
     "execution_count": 56,
     "metadata": {},
     "output_type": "execute_result"
    }
   ],
   "source": [
    "#Importing the LinearSVC class from the sklearn.svm module\n",
    "from sklearn.svm import LinearSVC\n",
    "\n",
    "model1 = LinearSVC(random_state=0, tol=1e-5)\n",
    "model1.fit(X_train_tf, Y_train)\n"
   ]
  },
  {
   "cell_type": "markdown",
   "id": "7d282dcc",
   "metadata": {},
   "source": [
    "## TESTING AND ACCURACY OF THE MODEL"
   ]
  },
  {
   "cell_type": "code",
   "execution_count": 59,
   "id": "50eb0ae8",
   "metadata": {},
   "outputs": [
    {
     "name": "stdout",
     "output_type": "stream",
     "text": [
      "Accuracy Score :  0.7359098228663447\n"
     ]
    }
   ],
   "source": [
    "#Importing the accuracy_score function from the sklearn.metrics module\n",
    "from sklearn.metrics import accuracy_score\n",
    "\n",
    "Y_pred = model1.predict(X_test_tf)\n",
    "print ('Accuracy Score : ', accuracy_score(Y_test, Y_pred))\n"
   ]
  },
  {
   "cell_type": "markdown",
   "id": "d9335c10",
   "metadata": {},
   "source": [
    "## DUMMY CLASSIFIER\n",
    "A dummy classifier is a simple baseline classifier used in machine learning for comparison purposes.Unlike traditional classifiers, a dummy classifier makes predictions using simple rules that are unrelated to the actual data."
   ]
  },
  {
   "cell_type": "code",
   "execution_count": 60,
   "id": "632f6001",
   "metadata": {},
   "outputs": [
    {
     "name": "stdout",
     "output_type": "stream",
     "text": [
      "Accuracy Score :  0.4758454106280193\n"
     ]
    }
   ],
   "source": [
    "#importing the DummyClassifier class from the sklearn.dummy module\n",
    "from sklearn.dummy import DummyClassifier\n",
    "#initializing and Training the Dummy Classifier\n",
    "clf = DummyClassifier(strategy='most_frequent', random_state=42)\n",
    "clf.fit(X_train, Y_train)\n",
    "Y_pred_baseline = clf.predict(X_test)\n",
    "print ('Accuracy Score : ', accuracy_score(Y_test, Y_pred_baseline))"
   ]
  },
  {
   "cell_type": "markdown",
   "id": "2c347046",
   "metadata": {},
   "source": [
    "## CONFUSION MATRIX\n",
    "A confusion matrix is a table that is often used to evaluate the performance of a classification model. It summarizes the performance of a classification algorithm by displaying the number of correct and incorrect predictions for each class compared to the actual class labels in the dataset."
   ]
  },
  {
   "cell_type": "code",
   "execution_count": 61,
   "id": "c2173155",
   "metadata": {},
   "outputs": [
    {
     "name": "stdout",
     "output_type": "stream",
     "text": [
      "[[ 345  147  171]\n",
      " [  67  977  246]\n",
      " [  90  263 1420]]\n"
     ]
    },
    {
     "data": {
      "text/plain": [
       "array([[ 345,  147,  171],\n",
       "       [  67,  977,  246],\n",
       "       [  90,  263, 1420]])"
      ]
     },
     "execution_count": 61,
     "metadata": {},
     "output_type": "execute_result"
    }
   ],
   "source": [
    "from sklearn.metrics import confusion_matrix\n",
    "\n",
    "# Assuming  Y_test and Y_pred defined\n",
    "conf_matrix = confusion_matrix(Y_test, Y_pred)\n",
    "print(conf_matrix)\n",
    "\n",
    "from sklearn.metrics import confusion_matrix\n",
    "Y_pred = model1.predict(X_test_tf)\n",
    "confusion_matrix(Y_test, Y_pred)\n",
    "\n"
   ]
  },
  {
   "cell_type": "markdown",
   "id": "b75b9464",
   "metadata": {},
   "source": [
    "## PLOTTING CONFUSION MATRIX"
   ]
  },
  {
   "cell_type": "code",
   "execution_count": 62,
   "id": "dc30f31f",
   "metadata": {},
   "outputs": [
    {
     "data": {
      "image/png": "[encoded data removed]",
      "text/plain": [
       "<Figure size 640x480 with 2 Axes>"
      ]
     },
     "metadata": {},
     "output_type": "display_data"
    }
   ],
   "source": [
    "#importing ConfusionMatrixDisplay, confusion_matrix\n",
    "from sklearn.metrics import ConfusionMatrixDisplay, confusion_matrix\n",
    "import matplotlib.pyplot as plt\n",
    "\n",
    "# Get the predicted labels\n",
    "predicted_labels = model1.predict(X_test_tf)\n",
    "\n",
    "# Calculate the confusion matrix\n",
    "conf_matrix = confusion_matrix(Y_test, predicted_labels)\n",
    "\n",
    "# Plot confusion matrix\n",
    "disp = ConfusionMatrixDisplay(confusion_matrix=conf_matrix, display_labels=model1.classes_)\n",
    "disp.plot(cmap=plt.cm.Blues, values_format='d')\n",
    "plt.show()\n"
   ]
  },
  {
   "cell_type": "markdown",
   "id": "9319269f",
   "metadata": {},
   "source": [
    "## CLASSIFICATION REPORT"
   ]
  },
  {
   "cell_type": "code",
   "execution_count": 63,
   "id": "be631b6f",
   "metadata": {},
   "outputs": [
    {
     "name": "stdout",
     "output_type": "stream",
     "text": [
      "              precision    recall  f1-score   support\n",
      "\n",
      "    Negative       0.69      0.52      0.59       663\n",
      "     Neutral       0.70      0.76      0.73      1290\n",
      "    Positive       0.77      0.80      0.79      1773\n",
      "\n",
      "    accuracy                           0.74      3726\n",
      "   macro avg       0.72      0.69      0.70      3726\n",
      "weighted avg       0.73      0.74      0.73      3726\n",
      "\n"
     ]
    }
   ],
   "source": [
    "#importing the Classification Report Function\n",
    "from sklearn.metrics import classification_report\n",
    "#classification_report function to generate a text report\n",
    "print(classification_report(Y_test, Y_pred))\n"
   ]
  },
  {
   "cell_type": "markdown",
   "id": "123eeb4e",
   "metadata": {},
   "source": [
    "## DOWNSAMPLING"
   ]
  },
  {
   "cell_type": "code",
   "execution_count": 64,
   "id": "90007d21",
   "metadata": {},
   "outputs": [
    {
     "data": {
      "text/plain": [
       "Sentiment\n",
       "Neutral     6449\n",
       "Positive    4000\n",
       "Negative    3316\n",
       "Name: count, dtype: int64"
      ]
     },
     "execution_count": 64,
     "metadata": {},
     "output_type": "execute_result"
    }
   ],
   "source": [
    "# Filter bug reports with sentiment Positive and sample 4000 rows from it\n",
    "df_sampleP3 = df[df['Sentiment'] == 'Positive'].sample(n=4000, random_state=123)\n",
    "\n",
    "# Create a separate dataframe containing all other bug reports\n",
    "df_sampleRest = df[df['Sentiment'] != 'Positive']\n",
    "\n",
    "# Concatenate the two dataframes to create the new balanced bug reports dataset\n",
    "df_balanced = pd.concat([df_sampleRest, df_sampleP3])\n",
    "\n",
    "# Check the status of the class imbalance\n",
    "df_balanced['Sentiment'].value_counts()\n"
   ]
  },
  {
   "cell_type": "markdown",
   "id": "83d1c600",
   "metadata": {},
   "source": [
    "## REPEATING EVERYTHING"
   ]
  },
  {
   "cell_type": "code",
   "execution_count": 65,
   "id": "f742e9a0",
   "metadata": {},
   "outputs": [
    {
     "name": "stdout",
     "output_type": "stream",
     "text": [
      "Size of Training Data  11012\n",
      "Size of Test Data  2753\n",
      "Accuracy Score :  0.729749364329822\n",
      "              precision    recall  f1-score   support\n",
      "\n",
      "    Negative       0.69      0.57      0.63       663\n",
      "     Neutral       0.76      0.84      0.80      1290\n",
      "    Positive       0.71      0.68      0.69       800\n",
      "\n",
      "    accuracy                           0.73      2753\n",
      "   macro avg       0.72      0.70      0.71      2753\n",
      "weighted avg       0.73      0.73      0.73      2753\n",
      "\n"
     ]
    },
    {
     "name": "stderr",
     "output_type": "stream",
     "text": [
      "/Users/likithareddykotla/anaconda3/lib/python3.11/site-packages/sklearn/svm/_classes.py:31: FutureWarning: The default value of `dual` will change from `True` to `'auto'` in 1.5. Set the value of `dual` explicitly to suppress the warning.\n",
      "  warnings.warn(\n"
     ]
    }
   ],
   "source": [
    "# Loading the balanced dataframe\n",
    "\n",
    "df = df_balanced[['title', 'Sentiment']]\n",
    "df = df.dropna()\n",
    "\n",
    "# Step 1 - Data Preparation\n",
    "\n",
    "df['title'] = df['title'].apply(clean)\n",
    "\n",
    "# Step 2 - Train-Test Split\n",
    "X_train, X_test, Y_train, Y_test = train_test_split(df['title'],\n",
    "                                                    df['Sentiment'],\n",
    "                                                    test_size=0.2,\n",
    "                                                    random_state=42,\n",
    "                                                    stratify=df['Sentiment'])\n",
    "print('Size of Training Data ', X_train.shape[0])\n",
    "print('Size of Test Data ', X_test.shape[0])\n",
    "\n",
    "# Step 3 - Training the Machine Learning model\n",
    "\n",
    "tfidf = TfidfVectorizer(min_df=10, ngram_range=(1, 2), stop_words=\"english\")\n",
    "X_train_tf = tfidf.fit_transform(X_train)\n",
    "\n",
    "model1 = LinearSVC(random_state=0, tol=1e-5)\n",
    "model1.fit(X_train_tf, Y_train)\n",
    "\n",
    "# Step 4 - Model Evaluation\n",
    "\n",
    "X_test_tf = tfidf.transform(X_test)\n",
    "Y_pred = model1.predict(X_test_tf)\n",
    "print('Accuracy Score : ', accuracy_score(Y_test, Y_pred))\n",
    "print(classification_report(Y_test, Y_pred))"
   ]
  },
  {
   "cell_type": "markdown",
   "id": "3e988d6f",
   "metadata": {},
   "source": [
    "## GRID SEARCH, SVM NOT LINEARSVM"
   ]
  },
  {
   "cell_type": "code",
   "execution_count": 67,
   "id": "e495be43",
   "metadata": {},
   "outputs": [
    {
     "name": "stdout",
     "output_type": "stream",
     "text": [
      "Size of Training Data  2980\n",
      "Size of Test Data  745\n",
      "Best alpha parameter identified by grid search  {'model__C': 1, 'model__kernel': 'linear', 'tfidf__min_df': 5, 'tfidf__ngram_range': (1, 6)}\n",
      "Best result identified by grid search  0.6577181208053691\n",
      "Accuracy Score -  0.6724832214765101\n",
      "              precision    recall  f1-score   support\n",
      "\n",
      "    Negative       0.63      0.31      0.41       133\n",
      "     Neutral       0.64      0.71      0.67       258\n",
      "    Positive       0.71      0.78      0.74       354\n",
      "\n",
      "    accuracy                           0.67       745\n",
      "   macro avg       0.66      0.60      0.61       745\n",
      "weighted avg       0.67      0.67      0.66       745\n",
      "\n"
     ]
    }
   ],
   "source": [
    "#importing Pipeline\n",
    "from sklearn.pipeline import Pipeline\n",
    "from sklearn.model_selection import GridSearchCV\n",
    "from sklearn.svm import LinearSVC\n",
    "# Flag that determines the choice of SVC (True) and LinearSVC (False)\n",
    "runSVC = True\n",
    "# Loading the dataframe\n",
    "df = pd.read_csv('TheSocialDilemma.csv')\n",
    "#df = df.drop(columns=['Duplicated_issue'])\n",
    "df = df[['text', 'user_description', 'Sentiment']]\n",
    "df = df.dropna()\n",
    "df['title'] = df['text'] + df['user_description']\n",
    "df = df.drop(columns=['text', 'user_description'])\n",
    "# Step 1 - Data Preparation\n",
    "df['title'] = df['title'].apply(clean)\n",
    "df = df[df['title'].str.len() > 50]\n",
    "if (runSVC):\n",
    "    # Sample the data when running SVC to ensure reasonable run-times\n",
    "    df = df.groupby('Sentiment', as_index=False).apply(pd.DataFrame.sample,\n",
    "                                                       random_state=42,\n",
    "                                                       frac=.2)\n",
    "# Step 2 - Train-Test Split\n",
    "X_train, X_test, Y_train, Y_test = train_test_split(df['title'],\n",
    "                                                    df['Sentiment'],\n",
    "                                                    test_size=0.2,\n",
    "                                                    random_state=42,\n",
    "                                                    stratify=df['Sentiment'])\n",
    "print('Size of Training Data ', X_train.shape[0])\n",
    "print('Size of Test Data ', X_test.shape[0])\n",
    "# Step 3 - Training the Machine Learning model\n",
    "tfidf = TfidfVectorizer(stop_words=\"english\")\n",
    "if (runSVC):\n",
    "    model = SVC(random_state=42, probability=True)\n",
    "    grid_param = [{\n",
    "        'tfidf__min_df': [5, 10],\n",
    "        'tfidf__ngram_range': [(1, 3), (1, 6)],\n",
    "        'model__C': [1, 100],\n",
    "        'model__kernel': ['linear']\n",
    "    }]\n",
    "else:\n",
    "    model = LinearSVC(random_state=42, tol=1e-5)\n",
    "    grid_param = {\n",
    "        'tfidf__min_df': [5, 10],\n",
    "        'tfidf__ngram_range': [(1, 3), (1, 6)],\n",
    "        'model__C': [1, 100],\n",
    "        'model__loss': ['hinge']\n",
    "    }\n",
    "training_pipeline = Pipeline(\n",
    "    steps=[('tfidf', TfidfVectorizer(stop_words=\"english\")), ('model', model)])\n",
    "gridSearchProcessor = GridSearchCV(estimator=training_pipeline,\n",
    "                                   param_grid=grid_param,\n",
    "                                   cv=5)\n",
    "gridSearchProcessor.fit(X_train, Y_train)\n",
    "best_params = gridSearchProcessor.best_params_\n",
    "print(\"Best alpha parameter identified by grid search \", best_params)\n",
    "\n",
    "best_result = gridSearchProcessor.best_score_\n",
    "print(\"Best result identified by grid search \", best_result)\n",
    "\n",
    "best_model = gridSearchProcessor.best_estimator_\n",
    "\n",
    "# Step 4 - Model Evaluation\n",
    "\n",
    "Y_pred = best_model.predict(X_test)\n",
    "print('Accuracy Score - ', accuracy_score(Y_test, Y_pred))\n",
    "print(classification_report(Y_test, Y_pred))\n"
   ]
  }
 ],
 "metadata": {
  "kernelspec": {
   "display_name": "Python 3 (ipykernel)",
   "language": "python",
   "name": "python3"
  },
  "language_info": {
   "codemirror_mode": {
    "name": "ipython",
    "version": 3
   },
   "file_extension": ".py",
   "mimetype": "text/x-python",
   "name": "python",
   "nbconvert_exporter": "python",
   "pygments_lexer": "ipython3",
   "version": "3.11.5"
  }
 },
 "nbformat": 4,
 "nbformat_minor": 5
}
